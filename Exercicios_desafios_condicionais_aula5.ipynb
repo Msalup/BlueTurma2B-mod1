{
  "nbformat": 4,
  "nbformat_minor": 0,
  "metadata": {
    "colab": {
      "name": "Exercicios_desafios_condicionais_aula5.ipynb",
      "provenance": [],
      "collapsed_sections": [],
      "include_colab_link": true
    },
    "kernelspec": {
      "name": "python3",
      "display_name": "Python 3"
    },
    "language_info": {
      "name": "python"
    }
  },
  "cells": [
    {
      "cell_type": "markdown",
      "metadata": {
        "id": "view-in-github",
        "colab_type": "text"
      },
      "source": [
        "<a href=\"https://colab.research.google.com/github/Msalup/BlueTurma2B-mod1/blob/main/Exercicios_desafios_condicionais_aula5.ipynb\" target=\"_parent\"><img src=\"https://colab.research.google.com/assets/colab-badge.svg\" alt=\"Open In Colab\"/></a>"
      ]
    },
    {
      "cell_type": "markdown",
      "metadata": {
        "id": "tfU9qd8OOh3Y"
      },
      "source": [
        "Exercício 1: Faça um Programa que leia três números inteiros, em seguida mostre o maior e o menor deles.\n"
      ]
    },
    {
      "cell_type": "code",
      "metadata": {
        "id": "M6y0oSsIJoCE",
        "colab": {
          "base_uri": "https://localhost:8080/"
        },
        "outputId": "080c5755-54c1-42ce-bca1-61c41b860926"
      },
      "source": [
        "num1 = int(input(\"Digite o primeiro valor:\"))\n",
        "num2 = int(input(\"Digite o segundo valor:\"))\n",
        "num3 = int(input(\"Digite o terceiro valor:\"))\n",
        "\n",
        "if num2 > num1 and num2 > num3:\n",
        "    maior = num2\n",
        "\n",
        "if num3 > num1 and num3 > num2:\n",
        "    maior = num3\n",
        "\n",
        "menor = num1\n",
        "if num2 <= num3 and num2 < num1:\n",
        "    menor = num2\n",
        "\n",
        "if num3 < num2 and num3 < num1:\n",
        "    menor = num3\n",
        "    \n",
        "print(f\"O menor número digitado foi {menor}\")\n",
        "print(f\"O maior número digitado foi {maior}\")"
      ],
      "execution_count": null,
      "outputs": [
        {
          "output_type": "stream",
          "text": [
            "Digite o primeiro valor:1\n",
            "Digite o segundo valor:2\n",
            "Digite o terceiro valor:3\n",
            "O menor número digitado foi 1\n",
            "O maior número digitado foi 3\n"
          ],
          "name": "stdout"
        }
      ]
    },
    {
      "cell_type": "markdown",
      "metadata": {
        "id": "bSsK3qSMOevp"
      },
      "source": [
        "**Exercício 2 - Faça um programa que peça dois números e imprima o maior deles.**"
      ]
    },
    {
      "cell_type": "code",
      "metadata": {
        "id": "0va9UlagJohH",
        "colab": {
          "base_uri": "https://localhost:8080/"
        },
        "outputId": "5f004b1e-d4a1-4469-e522-1b9c2e9dd578"
      },
      "source": [
        "num1 = float(input(\"Digite o primeiro valor:\"))\n",
        "num2 = float(input(\"Digite o segundo valor:\"))\n",
        "if num1 < num2:\n",
        "    maior = num2\n",
        "else:\n",
        "    maior = num1\n",
        "print(f\"O maior número digitado foi {maior}\")"
      ],
      "execution_count": null,
      "outputs": [
        {
          "output_type": "stream",
          "text": [
            "Digite o primeiro valor:5\n",
            "Digite o segundo valor:4.5\n",
            "O maior número digitado foi 5.0\n"
          ],
          "name": "stdout"
        }
      ]
    },
    {
      "cell_type": "markdown",
      "metadata": {
        "id": "7LgzHMqUOmX_"
      },
      "source": [
        "Exercício 3 - Faça um script que peça um valor e mostre na tela se o valor é positivo ou negativo."
      ]
    },
    {
      "cell_type": "code",
      "metadata": {
        "id": "pM9hru6wJpN5",
        "colab": {
          "base_uri": "https://localhost:8080/"
        },
        "outputId": "0edcd565-df6a-454e-c58c-6a5cb4a54f57"
      },
      "source": [
        "num = float(input(\"Digite um número: \"))\n",
        "\n",
        "if num > 0:\n",
        "  valor = \"Este número é positivo:+\"\n",
        "\n",
        "elif num < 0:\n",
        "  valor = \"Este número é negativo:\"\n",
        "\n",
        "else:\n",
        "  valor = \"Este número é nulo:\"\n",
        "  \n",
        "print(f\"{valor}\", num)"
      ],
      "execution_count": null,
      "outputs": [
        {
          "output_type": "stream",
          "text": [
            "Digite um número: -6\n",
            "Este número é negativo: -6.0\n"
          ],
          "name": "stdout"
        }
      ]
    },
    {
      "cell_type": "markdown",
      "metadata": {
        "id": "nK4P9Qy1OnbL"
      },
      "source": [
        "Exercício 4 - Crie um programa que verifique se uma letra digitada é \"F\" ou \"M\". Conforme a letra escrever: F - Feminino, M - Masculino, Sexo Inválido."
      ]
    },
    {
      "cell_type": "code",
      "metadata": {
        "id": "g-9Tll_kJphc",
        "colab": {
          "base_uri": "https://localhost:8080/"
        },
        "outputId": "6c54c045-6791-4044-ab6f-45c8d5536636"
      },
      "source": [
        "letra = input(\"Informe o seu sexo F ou M: \")\n",
        "\n",
        "if letra.upper() == \"F\":\n",
        "  sexo = \"F - Feminino\"\n",
        "\n",
        "elif letra.upper() == \"M\":\n",
        "  sexo = \"M - Masculino\"\n",
        "\n",
        "else:\n",
        "  sexo = \"Sexo Inválido\"\n",
        "  \n",
        "print(f\"Sexo informado: {sexo}\")\n",
        "\n"
      ],
      "execution_count": null,
      "outputs": [
        {
          "output_type": "stream",
          "text": [
            "Informe o seu sexo F ou M: h\n",
            "Sexo informado: Sexo Inválido\n"
          ],
          "name": "stdout"
        }
      ]
    },
    {
      "cell_type": "markdown",
      "metadata": {
        "id": "SfNlQyyKOp1S"
      },
      "source": [
        "Exercício 5 - Crie um programa em Python que peça a nota do aluno, que deve ser um float entre 0.00 e 10.0\n",
        "    • Se a nota for menor que 6.0, deve exibir a nota F.\n",
        "    • Se a nota for de 6.0 até 7.0, deve exibir a nota D.\n",
        "    • Se a nota for entre 7.0 e 8.0, deve exibir a nota C.\n",
        "    • Se a nota for entre 8.0 e 9.0, deve exibir a nota B.\n",
        "    • Por fim, se for entre 9.0 e 10.0, deve exibir um belo de um A."
      ]
    },
    {
      "cell_type": "code",
      "metadata": {
        "id": "caUKaqZYJp-K",
        "colab": {
          "base_uri": "https://localhost:8080/"
        },
        "outputId": "d48c0845-c05c-420b-e520-5695b61af724"
      },
      "source": [
        "nota = float(input(\"Digite sua nota com valor entre (0.00 e 10.0): \"))\n",
        "\n",
        "if nota <= 6:\n",
        "  valor = \"nota F\"\n",
        "\n",
        "elif 6 < nota <= 7:\n",
        "  valor = \"nota D\"\n",
        "\n",
        "elif 7 < nota <= 8:\n",
        "  valor = \"nota C\"\n",
        "\n",
        "elif 8 < nota <= 9:\n",
        "  valor = \"nota B\"\n",
        "\n",
        "else:\n",
        "  valor = \"nota A\"\n",
        "  \n",
        "print(f\"Seu desempenho foi: {valor}\")\n"
      ],
      "execution_count": null,
      "outputs": [
        {
          "output_type": "stream",
          "text": [
            "Digite sua nota com valor entre (0.00 e 10.0): 9.6\n",
            "Seu desempenho foi: nota A\n"
          ],
          "name": "stdout"
        }
      ]
    },
    {
      "cell_type": "markdown",
      "metadata": {
        "id": "S0tjDFr2OuPW"
      },
      "source": [
        "Exercício 6 - Faça um Programa que verifique se uma letra digitada é vogal ou consoante."
      ]
    },
    {
      "cell_type": "code",
      "metadata": {
        "id": "mh6l9n1_JqUa",
        "colab": {
          "base_uri": "https://localhost:8080/"
        },
        "outputId": "070d8af3-3768-4108-db85-575e84310f8c"
      },
      "source": [
        "caractere = input(\"Digite uma letra do alfabeto: \")\n",
        "\n",
        "if caractere.upper() in \"A, E, I, O, U\":\n",
        "  letra = \"A letra digitada é uma VOGAL!\"\n",
        "\n",
        "elif caractere.upper() in \"B, C, D, F, G, H, J, K, L, M, N, P, Q, R, S, T, V, W, X, Y, Z\":\n",
        "  letra = \"A letra digitada é uma CONSOANTE!\"\n",
        "\n",
        "else:\n",
        "  letra = \"O caractere digitado não é uma letra do alfabeto!\"\n",
        "  \n",
        "print(f\"{letra}\",caractere.upper())"
      ],
      "execution_count": null,
      "outputs": [
        {
          "output_type": "stream",
          "text": [
            "Digite uma letra do alfabeto: w\n",
            "A letra digitada é uma CONSOANTE! W\n"
          ],
          "name": "stdout"
        }
      ]
    },
    {
      "cell_type": "markdown",
      "metadata": {
        "id": "-SYJhM3gOuuI"
      },
      "source": [
        "# **PROJETO 1**\n",
        "Resultado da primeira/segunda aula em Python:\n",
        "    • Escreva um programa que receba uma string digitada pelo usuário;\n",
        "    • Caso a string seja \"medieval\", exiba no console \"espada\";\n",
        "    • Caso contrário, se a string for \"futurista\", exiba no console \"sabre de luz\";\n",
        "    • Caso contrário, exiba no console \"Tente novamente\""
      ]
    },
    {
      "cell_type": "code",
      "metadata": {
        "id": "wVVF2ldXJq1Z",
        "colab": {
          "base_uri": "https://localhost:8080/"
        },
        "outputId": "28e94f9b-b36b-4fb0-d1a4-650cb2266b22"
      },
      "source": [
        "print(\"Para iniciar o jogo escolha a era:\")\n",
        "tempo = input(\"Informe uma era (medieval, futurista): \")\n",
        "\n",
        "if tempo.lower() == \"medieval\":\n",
        "  arma = (\"espada\")\n",
        "\n",
        "elif tempo.lower() == \"futurista\":\n",
        "  arma = (\"sabre de luz\")\n",
        "\n",
        "else:\n",
        "  arma = (\"Tente novamente\")\n",
        "  \n",
        "print((\"Você atacou com \"+ arma.upper(), \"na era \" f\"{tempo.upper()}\"))"
      ],
      "execution_count": null,
      "outputs": [
        {
          "output_type": "stream",
          "text": [
            "Para iniciar o jogo escolha a era:\n",
            "Informe uma era (medieval, futurista): MEDIEVAL\n",
            "('Você atacou com ESPADA', 'na era MEDIEVAL')\n"
          ],
          "name": "stdout"
        }
      ]
    },
    {
      "cell_type": "markdown",
      "metadata": {
        "id": "lcu0VZ8zPuKd"
      },
      "source": [
        "# **Continuação do PROJETO 1**\n",
        "    • Escreva um programa que receba um ataque de espada ou sabre digitada pelo usuário;\n",
        "    • Caso o ataque seja \"espada\", exiba no console \"VOCÊ AINDA NÃO MATOU O CHEFÃO\";\n",
        "    • Caso contrário, se o ataque for \"sabre\", exiba no console \"VOCÊ DERROTOU O CHEFÃO COM O SABRE DE LUZ\";\n",
        "    • Caso contrário, exiba no console \"ATAQUE NOVAMENTE\""
      ]
    },
    {
      "cell_type": "code",
      "metadata": {
        "id": "jupTvz8nJsGy",
        "colab": {
          "base_uri": "https://localhost:8080/"
        },
        "outputId": "d879bc7f-a724-4f6f-fb7b-0ac3eac03c77"
      },
      "source": [
        "print(\"Para derrotar o CHEFÃO escolha a arma:\")\n",
        "arma = input(\"(ESPADA, SABRE): \").upper()\n",
        "if arma == \"ESPADA\":\n",
        "  ataque = \"VOCÊ AINDA NÃO MATOU O CHEFÃO:\"\n",
        "\n",
        "elif arma == \"SABRE\":\n",
        "  ataque = \"VOCÊ DERROTOU O CHEFÃO COM O SABRE DE LUZ:\"\n",
        "\n",
        "else:\n",
        "  ataque = (\"ATAQUE NOVAMENTE:\")\n",
        "  \n",
        "print((\"Atacou com \"+ arma.upper(), f\"{ataque}\"))"
      ],
      "execution_count": null,
      "outputs": [
        {
          "output_type": "stream",
          "text": [
            "Para derrotar o CHEFÃO escolha a arma:\n",
            "(ESPADA, SABRE): dfgh\n",
            "('Atacou com DFGH', 'ATAQUE NOVAMENTE:')\n"
          ],
          "name": "stdout"
        }
      ]
    },
    {
      "cell_type": "markdown",
      "metadata": {
        "id": "2qAqfZPsRpFr"
      },
      "source": [
        "# **DESAFIO**\n",
        "As empresas @.com resolveram dar um aumento de salário aos seus colaboradores e lhe contrataram para desenvolver o programa que calculará os reajustes.\n",
        "\n",
        "Faça um programa que recebe o salário de um colaborador e o reajuste segundo o seguinte critério, baseado no salário atual:\n",
        "    • salários até R$ 280,00 (incluindo) : aumento de 20%\n",
        "    • salários entre R$ 280,00 e R$ 700,00 : aumento de 15%\n",
        "    • salários entre R$ 700,00 e R$ 1500,00 : aumento de 10%\n",
        "    • salários de R$ 1500,00 em diante : aumento de 5%\n",
        "Após o aumento ser realizado, informe na tela:\n",
        "    • o salário antes do reajuste;\n",
        "    • o percentual de aumento aplicado;\n",
        "    • o valor do aumento;\n",
        "    • o novo salário, após o aumento.\""
      ]
    },
    {
      "cell_type": "code",
      "metadata": {
        "id": "ajbIH8WHJsv-",
        "colab": {
          "base_uri": "https://localhost:8080/"
        },
        "outputId": "363f4fe8-5d80-40d0-c32c-b0357a4674dd"
      },
      "source": [
        "salario = float(input(\"O salário antes do reajuste:R$ \"))\n",
        "percentual_de_aumento = (input(\"O percentual de aumento aplicado: \"))\n",
        "conversao = float(percentual_de_aumento[:-1])/100\n",
        "\n",
        "if salario <= 280.00:\n",
        "  valor_do_aumento = salario*conversao\n",
        "  novo_salario =  salario + valor_do_aumento\n",
        "\n",
        "elif 280.00 < salario <= 700.00:\n",
        "  valor_do_aumento = salario*conversao\n",
        "  novo_salario =  salario + valor_do_aumento\n",
        "\n",
        "elif 700.00 < salario <= 1500.00:\n",
        "  valor_do_aumento = salario*conversao\n",
        "  novo_salario =  salario + valor_do_aumento\n",
        "\n",
        "else:\n",
        "  valor_do_aumento = salario*conversao\n",
        "  novo_salario =  salario + valor_do_aumento\n",
        "\n",
        "print(\"Valor do aumento:R$ %.2f\" % (valor_do_aumento))\n",
        "print(f\"O novo salário, após o aumento:R$ %.2f\" % (novo_salario))\n",
        "\n"
      ],
      "execution_count": null,
      "outputs": [
        {
          "output_type": "stream",
          "text": [
            "O salário antes do reajuste:R$ 900\n",
            "O percentual de aumento aplicado: 10%\n",
            "Valor do aumento:R$ 90.00\n",
            "O novo salário, após o aumento:R$ 990.00\n"
          ],
          "name": "stdout"
        }
      ]
    },
    {
      "cell_type": "markdown",
      "metadata": {
        "id": "W0Z9cw8-K_dZ"
      },
      "source": [
        "# **DESAFIO**\n",
        "Faça um Programa para um caixa eletrônico. O programa deverá perguntar ao usuário a valor do saque e depois informar quantas notas de cada valor serão fornecidas. As notas disponíveis serão as de 1, 5, 10, 50 e 100 reais. O valor mínimo é de 10 reais e o máximo de 600 reais. O programa não deve se preocupar com a quantidade de notas existentes na máquina.\n",
        "    • Exemplo 1: Para sacar a quantia de 256 reais, o programa fornece duas notas de 100, uma nota de 50, uma nota de 5 e uma nota de 1;\n",
        "    • Exemplo 2: Para sacar a quantia de 399 reais, o programa fornece três notas de 100, uma nota de 50, quatro notas de 10, uma nota de 5 e quatro notas de 1."
      ]
    },
    {
      "cell_type": "code",
      "metadata": {
        "id": "47vmEVi1JtSw",
        "colab": {
          "base_uri": "https://localhost:8080/"
        },
        "outputId": "d413c4d0-0642-465c-d7ea-0290c912d8c4"
      },
      "source": [
        "saque = int(input(\"Valor para saque entre R$ 10-600:R$ \"))\n",
        "\n",
        "if 10 <= saque <=600:\n",
        "  cem = int(saque / 100)\n",
        "  saque = saque - (cem*100)\n",
        "\n",
        "  cinquenta = int(saque/50)\n",
        "  saque = saque - (cinquenta*50)\n",
        "\n",
        "  dez = int(saque/10)\n",
        "  saque = saque - (dez*10)\n",
        "\n",
        "  cinco = int(saque/5)\n",
        "  saque = saque - (cinco*5)\n",
        "\n",
        "  um = saque\n",
        "  \n",
        "  print(\"Você receberá: %.f notas de R$100,00 \" % (cem))\n",
        "  print(\"Você receberá: %.f notas de R$ 50,00 \" % (cinquenta))\n",
        "  print(\"Você receberá: %.f notas de R$ 10,00 \" % (dez))\n",
        "  print(\"Você receberá: %.f notas de R$  5,00 \" % (cinco))\n",
        "  print(\"Você receberá: %.f notas de R$  1,00 \" % (um))\n",
        "\n",
        "else:\n",
        "  print(\"Saque indisponível, digite valores entre R$ 10 e 600 \")"
      ],
      "execution_count": 13,
      "outputs": [
        {
          "output_type": "stream",
          "text": [
            "Valor para saque entre R$ 10-600:R$ 1500\n",
            "Saque indisponível, digite valores entre R$ 10 e 600 \n"
          ],
          "name": "stdout"
        }
      ]
    }
  ]
}